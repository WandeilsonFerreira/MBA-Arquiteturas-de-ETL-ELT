{
 "cells": [
  {
   "cell_type": "code",
   "execution_count": 68,
   "id": "04f3b6e4-9729-49d1-b39b-eb6c69fd214b",
   "metadata": {
    "tags": []
   },
   "outputs": [],
   "source": [
    "from pyspark.sql import SparkSession\n",
    "\n",
    "def create_spark_session() -> SparkSession:\n",
    "    spark = (\n",
    "        SparkSession.builder\n",
    "        .appName(\"SilverLayer\")\n",
    "        .enableHiveSupport()\n",
    "        .config(\"spark.sql.extensions\", \"io.delta.sql.DeltaSparkSessionExtension\")\n",
    "        .config(\"spark.sql.catalog.spark_catalog\", \"org.apache.spark.sql.delta.catalog.DeltaCatalog\")\n",
    "        .config(\"spark.hadoop.fs.s3a.impl\", \"org.apache.hadoop.fs.s3a.S3AFileSystem\")\n",
    "        .config(\"spark.hadoop.fs.s3minio.impl\", \"org.apache.hadoop.fs.s3a.S3AFileSystem\")\n",
    "        .config(\"fs.s3a.access.key\",\"admin\")\n",
    "        .config(\"fs.s3a.secret.key\",\"senhasegura\",)\n",
    "        .config(\"fs.s3a.endpoint\",\"http://minio:9000\",)\n",
    "        .config(\"fs.s3a.path.style.access\",\"true\",)\n",
    "        .config(\"fs.s3a.connection.ssl.enabled\",\"false\")\n",
    "        .getOrCreate()\n",
    "    )\n",
    "    return spark\n",
    "\n",
    "spark = create_spark_session()\n",
    "\n",
    " "
   ]
  },
  {
   "cell_type": "code",
   "execution_count": 54,
   "id": "dac4085b-866b-4ce8-bd56-04671e601e92",
   "metadata": {
    "tags": []
   },
   "outputs": [
    {
     "name": "stdout",
     "output_type": "stream",
     "text": [
      "Team: ['_airbyte_raw_id', '_airbyte_extracted_at', '_airbyte_meta', '_airbyte_generation_id', 'id', 'team_api_id', 'team_long_name', 'team_short_name', 'team_fifa_api_id']\n",
      "\n",
      "Team_attributes: ['_airbyte_raw_id', '_airbyte_extracted_at', '_airbyte_meta', '_airbyte_generation_id', 'id', 'date', 'team_api_id', 'defencePressure', 'buildUpPlaySpeed', 'defenceTeamWidth', 'team_fifa_api_id', 'defenceAggression', 'buildUpPlayPassing', 'buildUpPlayDribbling', 'defencePressureClass', 'buildUpPlaySpeedClass', 'chanceCreationPassing', 'defenceTeamWidthClass', 'chanceCreationCrossing', 'chanceCreationShooting', 'defenceAggressionClass', 'buildUpPlayPassingClass', 'defenceDefenderLineClass', 'buildUpPlayDribblingClass', 'chanceCreationPassingClass', 'buildUpPlayPositioningClass', 'chanceCreationCrossingClass', 'chanceCreationShootingClass', 'chanceCreationPositioningClass']\n",
      "\n",
      "Match: ['_airbyte_raw_id', '_airbyte_extracted_at', '_airbyte_meta', '_airbyte_generation_id', 'id', 'BSA', 'BSD', 'BSH', 'BWA', 'BWD', 'BWH', 'GBA', 'GBD', 'GBH', 'IWA', 'IWD', 'IWH', 'LBA', 'LBD', 'LBH', 'PSA', 'PSD', 'PSH', 'SJA', 'SJD', 'SJH', 'VCA', 'VCD', 'VCH', 'WHA', 'WHD', 'WHH', 'card', 'date', 'goal', 'B365A', 'B365D', 'B365H', 'cross', 'stage', 'corner', 'season', 'shoton', 'shotoff', 'league_id', 'country_id', 'foulcommit', 'possession', 'match_api_id', 'away_player_1', 'away_player_2', 'away_player_3', 'away_player_4', 'away_player_5', 'away_player_6', 'away_player_7', 'away_player_8', 'away_player_9', 'home_player_1', 'home_player_2', 'home_player_3', 'home_player_4', 'home_player_5', 'home_player_6', 'home_player_7', 'home_player_8', 'home_player_9', 'away_player_10', 'away_player_11', 'away_player_X1', 'away_player_X2', 'away_player_X3', 'away_player_X4', 'away_player_X5', 'away_player_X6', 'away_player_X7', 'away_player_X8', 'away_player_X9', 'away_player_Y1', 'away_player_Y2', 'away_player_Y3', 'away_player_Y4', 'away_player_Y5', 'away_player_Y6', 'away_player_Y7', 'away_player_Y8', 'away_player_Y9', 'away_team_goal', 'home_player_10', 'home_player_11', 'home_player_X1', 'home_player_X2', 'home_player_X3', 'home_player_X4', 'home_player_X5', 'home_player_X6', 'home_player_X7', 'home_player_X8', 'home_player_X9', 'home_player_Y1', 'home_player_Y2', 'home_player_Y3', 'home_player_Y4', 'home_player_Y5', 'home_player_Y6', 'home_player_Y7', 'home_player_Y8', 'home_player_Y9', 'home_team_goal', 'away_player_X10', 'away_player_X11', 'away_player_Y10', 'away_player_Y11', 'home_player_X10', 'home_player_X11', 'home_player_Y10', 'home_player_Y11', 'away_team_api_id', 'home_team_api_id']\n",
      "\n"
     ]
    }
   ],
   "source": [
    "df_team = spark.read.parquet(\"s3a://bucket-bronze-zone/team/\")\n",
    "df_team_attributes = spark.read.parquet(\"s3a://bucket-bronze-zone/team_attributes/\")\n",
    "df_match = spark.read.parquet(\"s3a://bucket-bronze-zone/match/\")\n",
    "#df_team.show()\n",
    "#df_team_attributes.show()\n",
    "#df_match.show()\n",
    "\n",
    "print(f'Team: {df_team.columns}\\n')\n",
    "print(f'Team_attributes: {df_team_attributes.columns}\\n')\n",
    "print(f'Match: {df_match.columns}\\n')\n"
   ]
  },
  {
   "cell_type": "code",
   "execution_count": 55,
   "id": "676f30ea-449f-4b18-a4cb-56d4f0b0ada2",
   "metadata": {},
   "outputs": [],
   "source": [
    "#TO DO Excluir colunas\n",
    "#df_team = df_team.drop(\"team_long_name\", \"team_fifa_api_id\")\n",
    "#print(df_team.columns)\n",
    "\n",
    "# = APos finalizar o projeto excluir colunas não utilizadas\n",
    "# df_team_attributes = df_team_attributes.drop(\"_airbyte_raw_id\", \"_airbyte_extracted_at\", \"_airbyte_meta\", \"_airbyte_generation_id\")\n",
    "# print(df_team_attributes.columns) \n",
    "\n",
    "# df_match = df_match.drop(\"_airbyte_raw_id\", \"_airbyte_extracted_at\", \"_airbyte_meta\", \"_airbyte_generation_id\")\n",
    "# print(df_match.columns)\n"
   ]
  },
  {
   "cell_type": "code",
   "execution_count": 56,
   "id": "b25fbaa0-9ff9-431a-9a4f-d287bf27feb2",
   "metadata": {
    "tags": []
   },
   "outputs": [
    {
     "data": {
      "text/plain": [
       "['_airbyte_raw_id',\n",
       " '_airbyte_extracted_at',\n",
       " '_airbyte_meta',\n",
       " '_airbyte_generation_id',\n",
       " 'id',\n",
       " 'team_api_id',\n",
       " 'team_long_name',\n",
       " 'time',\n",
       " 'team_fifa_api_id']"
      ]
     },
     "execution_count": 56,
     "metadata": {},
     "output_type": "execute_result"
    }
   ],
   "source": [
    "#Renomeando as colunas = Apos utilizar as colunas nas querys fazer a mudança\n",
    "df_team = df_team.withColumnRenamed(\"team_short_name\", \"time\")\n",
    "df_team_attributes = df_team_attributes.withColumnRenamed(\"date\", \"data\")\n",
    "#df_match = df_match.withColumnRenamed(\"date\", \"data\").withColumnRenamed(\"XXX\", \"xxxx\")\n",
    "df_team.columns"
   ]
  },
  {
   "cell_type": "code",
   "execution_count": 57,
   "id": "808616e1-6695-443a-8027-7bd6ce867987",
   "metadata": {
    "tags": []
   },
   "outputs": [
    {
     "name": "stdout",
     "output_type": "stream",
     "text": [
      "+---------------+---------------------+-------------+----------------------+---+-----------+--------------+----+----------------+\n",
      "|_airbyte_raw_id|_airbyte_extracted_at|_airbyte_meta|_airbyte_generation_id| id|team_api_id|team_long_name|time|team_fifa_api_id|\n",
      "+---------------+---------------------+-------------+----------------------+---+-----------+--------------+----+----------------+\n",
      "|              0|                    0|            0|                     0|  0|          0|             0|   0|              11|\n",
      "+---------------+---------------------+-------------+----------------------+---+-----------+--------------+----+----------------+\n",
      "\n"
     ]
    },
    {
     "data": {
      "text/plain": [
       "299"
      ]
     },
     "execution_count": 57,
     "metadata": {},
     "output_type": "execute_result"
    }
   ],
   "source": [
    "#Verificando dados ausentes\n",
    "from pyspark.sql.functions import col, sum, mean\n",
    "\n",
    "\n",
    "df_team.select([sum(col(c).isNull().cast(\"int\")).alias(c) for c in df_team.columns]).show()\n",
    "df_team.count()"
   ]
  },
  {
   "cell_type": "code",
   "execution_count": 58,
   "id": "28a9e606-d925-4a74-8ad8-e0ed457bac59",
   "metadata": {
    "tags": []
   },
   "outputs": [
    {
     "name": "stdout",
     "output_type": "stream",
     "text": [
      "+---------------+---------------------+-------------+----------------------+---+-----------+--------------+----+----------------+\n",
      "|_airbyte_raw_id|_airbyte_extracted_at|_airbyte_meta|_airbyte_generation_id| id|team_api_id|team_long_name|time|team_fifa_api_id|\n",
      "+---------------+---------------------+-------------+----------------------+---+-----------+--------------+----+----------------+\n",
      "|              0|                    0|            0|                     0|  0|          0|             0|   0|               0|\n",
      "+---------------+---------------------+-------------+----------------------+---+-----------+--------------+----+----------------+\n",
      "\n",
      "+--------------------+---------------------+--------------+----------------------+---+-----------+-----------------+----+----------------+\n",
      "|     _airbyte_raw_id|_airbyte_extracted_at| _airbyte_meta|_airbyte_generation_id| id|team_api_id|   team_long_name|time|team_fifa_api_id|\n",
      "+--------------------+---------------------+--------------+----------------------+---+-----------+-----------------+----+----------------+\n",
      "|8a375502-f6f7-4d6...| 2025-05-08 03:17:...|{35826647, []}|                     3|  1|       9987|         KRC Genk| GEN|             673|\n",
      "|adbef74f-106b-415...| 2025-05-08 03:17:...|{35826647, []}|                     3|  2|       9993|     Beerschot AC| BAC|             675|\n",
      "|e657504f-87c7-459...| 2025-05-08 03:17:...|{35826647, []}|                     3|  3|      10000| SV Zulte-Waregem| ZUL|           15005|\n",
      "|8484e9ec-4f55-473...| 2025-05-08 03:17:...|{35826647, []}|                     3|  4|       9994| Sporting Lokeren| LOK|            2007|\n",
      "|d29d0f42-8173-45c...| 2025-05-08 03:17:...|{35826647, []}|                     3|  5|       9984|KSV Cercle Brugge| CEB|            1750|\n",
      "+--------------------+---------------------+--------------+----------------------+---+-----------+-----------------+----+----------------+\n",
      "only showing top 5 rows\n",
      "\n"
     ]
    }
   ],
   "source": [
    "from pyspark.sql.types import NumericType\n",
    "\n",
    "# Identificar colunas numéricas\n",
    "numeric_cols_team = [c for c, t in df_team.dtypes if isinstance(df_team.schema[c].dataType, NumericType)]\n",
    "\n",
    "# Calcular a média apenas para colunas numéricas\n",
    "mean_values_team = df_team.select([mean(col(c)).alias(c) for c in numeric_cols_team]).collect()[0].asDict()\n",
    "\n",
    "# Substituir valores nulos nas colunas numéricas pela média correspondente\n",
    "df_team = df_team.fillna(mean_values_team)\n",
    "\n",
    "df_team.select([sum(col(c).isNull().cast(\"int\")).alias(c) for c in df_team.columns]).show()\n",
    "df_team.show(5)\n"
   ]
  },
  {
   "cell_type": "code",
   "execution_count": 59,
   "id": "1483c34c-4d04-446d-a236-68286fbe94a8",
   "metadata": {
    "tags": []
   },
   "outputs": [
    {
     "name": "stdout",
     "output_type": "stream",
     "text": [
      "+---------------+---------------------+-------------+----------------------+---+----+-----------+---------------+----------------+----------------+----------------+-----------------+------------------+--------------------+--------------------+---------------------+---------------------+---------------------+----------------------+----------------------+----------------------+-----------------------+------------------------+-------------------------+--------------------------+---------------------------+---------------------------+---------------------------+------------------------------+\n",
      "|_airbyte_raw_id|_airbyte_extracted_at|_airbyte_meta|_airbyte_generation_id| id|data|team_api_id|defencePressure|buildUpPlaySpeed|defenceTeamWidth|team_fifa_api_id|defenceAggression|buildUpPlayPassing|buildUpPlayDribbling|defencePressureClass|buildUpPlaySpeedClass|chanceCreationPassing|defenceTeamWidthClass|chanceCreationCrossing|chanceCreationShooting|defenceAggressionClass|buildUpPlayPassingClass|defenceDefenderLineClass|buildUpPlayDribblingClass|chanceCreationPassingClass|buildUpPlayPositioningClass|chanceCreationCrossingClass|chanceCreationShootingClass|chanceCreationPositioningClass|\n",
      "+---------------+---------------------+-------------+----------------------+---+----+-----------+---------------+----------------+----------------+----------------+-----------------+------------------+--------------------+--------------------+---------------------+---------------------+---------------------+----------------------+----------------------+----------------------+-----------------------+------------------------+-------------------------+--------------------------+---------------------------+---------------------------+---------------------------+------------------------------+\n",
      "|              0|                    0|            0|                     0|  0|   0|          0|              0|               0|               0|               0|                0|                 0|                 969|                   0|                    0|                    0|                    0|                     0|                     0|                     0|                      0|                       0|                        0|                         0|                          0|                          0|                          0|                             0|\n",
      "+---------------+---------------------+-------------+----------------------+---+----+-----------+---------------+----------------+----------------+----------------+-----------------+------------------+--------------------+--------------------+---------------------+---------------------+---------------------+----------------------+----------------------+----------------------+-----------------------+------------------------+-------------------------+--------------------------+---------------------------+---------------------------+---------------------------+------------------------------+\n",
      "\n"
     ]
    },
    {
     "data": {
      "text/plain": [
       "1458"
      ]
     },
     "execution_count": 59,
     "metadata": {},
     "output_type": "execute_result"
    }
   ],
   "source": [
    "#Verificando dados ausentes\n",
    "df_team_attributes.select([sum(col(c).isNull().cast(\"int\")).alias(c) for c in df_team_attributes.columns]).show()\n",
    "df_team_attributes.count()"
   ]
  },
  {
   "cell_type": "code",
   "execution_count": 60,
   "id": "076880a3-7676-45f5-a92f-189988f8729c",
   "metadata": {
    "tags": []
   },
   "outputs": [
    {
     "name": "stdout",
     "output_type": "stream",
     "text": [
      "+---------------+---------------------+-------------+----------------------+---+----+-----------+---------------+----------------+----------------+----------------+-----------------+------------------+--------------------+--------------------+---------------------+---------------------+---------------------+----------------------+----------------------+----------------------+-----------------------+------------------------+-------------------------+--------------------------+---------------------------+---------------------------+---------------------------+------------------------------+\n",
      "|_airbyte_raw_id|_airbyte_extracted_at|_airbyte_meta|_airbyte_generation_id| id|data|team_api_id|defencePressure|buildUpPlaySpeed|defenceTeamWidth|team_fifa_api_id|defenceAggression|buildUpPlayPassing|buildUpPlayDribbling|defencePressureClass|buildUpPlaySpeedClass|chanceCreationPassing|defenceTeamWidthClass|chanceCreationCrossing|chanceCreationShooting|defenceAggressionClass|buildUpPlayPassingClass|defenceDefenderLineClass|buildUpPlayDribblingClass|chanceCreationPassingClass|buildUpPlayPositioningClass|chanceCreationCrossingClass|chanceCreationShootingClass|chanceCreationPositioningClass|\n",
      "+---------------+---------------------+-------------+----------------------+---+----+-----------+---------------+----------------+----------------+----------------+-----------------+------------------+--------------------+--------------------+---------------------+---------------------+---------------------+----------------------+----------------------+----------------------+-----------------------+------------------------+-------------------------+--------------------------+---------------------------+---------------------------+---------------------------+------------------------------+\n",
      "|              0|                    0|            0|                     0|  0|   0|          0|              0|               0|               0|               0|                0|                 0|                   0|                   0|                    0|                    0|                    0|                     0|                     0|                     0|                      0|                       0|                        0|                         0|                          0|                          0|                          0|                             0|\n",
      "+---------------+---------------------+-------------+----------------------+---+----+-----------+---------------+----------------+----------------+----------------+-----------------+------------------+--------------------+--------------------+---------------------+---------------------+---------------------+----------------------+----------------------+----------------------+-----------------------+------------------------+-------------------------+--------------------------+---------------------------+---------------------------+---------------------------+------------------------------+\n",
      "\n",
      "+--------------------+---------------------+--------------+----------------------+---+-------------------+-----------+---------------+----------------+----------------+----------------+-----------------+------------------+--------------------+--------------------+---------------------+---------------------+---------------------+----------------------+----------------------+----------------------+-----------------------+------------------------+-------------------------+--------------------------+---------------------------+---------------------------+---------------------------+------------------------------+\n",
      "|     _airbyte_raw_id|_airbyte_extracted_at| _airbyte_meta|_airbyte_generation_id| id|               data|team_api_id|defencePressure|buildUpPlaySpeed|defenceTeamWidth|team_fifa_api_id|defenceAggression|buildUpPlayPassing|buildUpPlayDribbling|defencePressureClass|buildUpPlaySpeedClass|chanceCreationPassing|defenceTeamWidthClass|chanceCreationCrossing|chanceCreationShooting|defenceAggressionClass|buildUpPlayPassingClass|defenceDefenderLineClass|buildUpPlayDribblingClass|chanceCreationPassingClass|buildUpPlayPositioningClass|chanceCreationCrossingClass|chanceCreationShootingClass|chanceCreationPositioningClass|\n",
      "+--------------------+---------------------+--------------+----------------------+---+-------------------+-----------+---------------+----------------+----------------+----------------+-----------------+------------------+--------------------+--------------------+---------------------+---------------------+---------------------+----------------------+----------------------+----------------------+-----------------------+------------------------+-------------------------+--------------------------+---------------------------+---------------------------+---------------------------+------------------------------+\n",
      "|c6ab0304-fd59-4de...| 2025-05-08 03:17:...|{35826647, []}|                     3|  1|2010-02-22 00:00:00|       9930|             50|              60|              45|             434|               55|                50|                  48|              Medium|             Balanced|                   60|               Normal|                    65|                    55|                 Press|                  Mixed|                   Cover|                   Little|                    Normal|                  Organised|                     Normal|                     Normal|                     Organised|\n",
      "|ad78ae3e-4ed7-4ab...| 2025-05-08 03:17:...|{35826647, []}|                     3|  2|2014-09-19 00:00:00|       9930|             47|              52|              54|             434|               44|                56|                  48|              Medium|             Balanced|                   54|               Normal|                    63|                    64|                 Press|                  Mixed|                   Cover|                   Normal|                    Normal|                  Organised|                     Normal|                     Normal|                     Organised|\n",
      "|adf4731d-61ee-4c9...| 2025-05-08 03:17:...|{35826647, []}|                     3|  3|2015-09-10 00:00:00|       9930|             47|              47|              54|             434|               44|                54|                  41|              Medium|             Balanced|                   54|               Normal|                    63|                    64|                 Press|                  Mixed|                   Cover|                   Normal|                    Normal|                  Organised|                     Normal|                     Normal|                     Organised|\n",
      "|ac7fd87b-c197-4fa...| 2025-05-08 03:17:...|{35826647, []}|                     3|  4|2010-02-22 00:00:00|       8485|             60|              70|              70|              77|               70|                70|                  48|              Medium|                 Fast|                   70|                 Wide|                    70|                    70|                Double|                   Long|                   Cover|                   Little|                     Risky|                  Organised|                       Lots|                       Lots|                     Organised|\n",
      "|1173f816-90d7-404...| 2025-05-08 03:17:...|{35826647, []}|                     3|  5|2011-02-22 00:00:00|       8485|             47|              47|              52|              77|               47|                52|                  48|              Medium|             Balanced|                   53|               Normal|                    48|                    52|                 Press|                  Mixed|                   Cover|                   Little|                    Normal|                  Organised|                     Normal|                     Normal|                     Organised|\n",
      "+--------------------+---------------------+--------------+----------------------+---+-------------------+-----------+---------------+----------------+----------------+----------------+-----------------+------------------+--------------------+--------------------+---------------------+---------------------+---------------------+----------------------+----------------------+----------------------+-----------------------+------------------------+-------------------------+--------------------------+---------------------------+---------------------------+---------------------------+------------------------------+\n",
      "only showing top 5 rows\n",
      "\n"
     ]
    }
   ],
   "source": [
    "# Identificar colunas numéricas\n",
    "numeric_cols_team_attributes = [c for c, t in df_team_attributes.dtypes if isinstance(df_team_attributes.schema[c].dataType, NumericType)]\n",
    "   \n",
    "# Calcular a média apenas para colunas numéricas\n",
    "mean_values_team_attributes = df_team_attributes.select([mean(col(c)).alias(c) for c in numeric_cols_team_attributes]).collect()[0].asDict()\n",
    "\n",
    "# Substituir valores nulos nas colunas numéricas pela média correspondente\n",
    "df_team_attributes = df_team_attributes.fillna(mean_values_team_attributes)\n",
    "\n",
    "df_team_attributes.select([sum(col(c).isNull().cast(\"int\")).alias(c) for c in df_team_attributes.columns]).show()\n",
    "df_team_attributes.show(5)"
   ]
  },
  {
   "cell_type": "code",
   "execution_count": 61,
   "id": "17b1d2c4-a2c2-4e44-be13-b8e4c0bf4636",
   "metadata": {
    "tags": []
   },
   "outputs": [
    {
     "name": "stdout",
     "output_type": "stream",
     "text": [
      "+---------------+---------------------+-------------+----------------------+---+-----+-----+-----+----+----+----+-----+-----+-----+----+----+----+----+----+----+-----+-----+-----+----+----+----+----+----+----+----+----+----+-----+----+-----+-----+-----+-----+-----+-----+------+------+------+-------+---------+----------+----------+----------+------------+-------------+-------------+-------------+-------------+-------------+-------------+-------------+-------------+-------------+-------------+-------------+-------------+-------------+-------------+-------------+-------------+-------------+-------------+--------------+--------------+--------------+--------------+--------------+--------------+--------------+--------------+--------------+--------------+--------------+--------------+--------------+--------------+--------------+--------------+--------------+--------------+--------------+--------------+--------------+--------------+--------------+--------------+--------------+--------------+--------------+--------------+--------------+--------------+--------------+--------------+--------------+--------------+--------------+--------------+--------------+--------------+--------------+--------------+--------------+--------------+---------------+---------------+---------------+---------------+---------------+---------------+---------------+---------------+----------------+----------------+\n",
      "|_airbyte_raw_id|_airbyte_extracted_at|_airbyte_meta|_airbyte_generation_id| id|  BSA|  BSD|  BSH| BWA| BWD| BWH|  GBA|  GBD|  GBH| IWA| IWD| IWH| LBA| LBD| LBH|  PSA|  PSD|  PSH| SJA| SJD| SJH| VCA| VCD| VCH| WHA| WHD| WHH| card|date| goal|B365A|B365D|B365H|cross|stage|corner|season|shoton|shotoff|league_id|country_id|foulcommit|possession|match_api_id|away_player_1|away_player_2|away_player_3|away_player_4|away_player_5|away_player_6|away_player_7|away_player_8|away_player_9|home_player_1|home_player_2|home_player_3|home_player_4|home_player_5|home_player_6|home_player_7|home_player_8|home_player_9|away_player_10|away_player_11|away_player_X1|away_player_X2|away_player_X3|away_player_X4|away_player_X5|away_player_X6|away_player_X7|away_player_X8|away_player_X9|away_player_Y1|away_player_Y2|away_player_Y3|away_player_Y4|away_player_Y5|away_player_Y6|away_player_Y7|away_player_Y8|away_player_Y9|away_team_goal|home_player_10|home_player_11|home_player_X1|home_player_X2|home_player_X3|home_player_X4|home_player_X5|home_player_X6|home_player_X7|home_player_X8|home_player_X9|home_player_Y1|home_player_Y2|home_player_Y3|home_player_Y4|home_player_Y5|home_player_Y6|home_player_Y7|home_player_Y8|home_player_Y9|home_team_goal|away_player_X10|away_player_X11|away_player_Y10|away_player_Y11|home_player_X10|home_player_X11|home_player_Y10|home_player_Y11|away_team_api_id|home_team_api_id|\n",
      "+---------------+---------------------+-------------+----------------------+---+-----+-----+-----+----+----+----+-----+-----+-----+----+----+----+----+----+----+-----+-----+-----+----+----+----+----+----+----+----+----+----+-----+----+-----+-----+-----+-----+-----+-----+------+------+------+-------+---------+----------+----------+----------+------------+-------------+-------------+-------------+-------------+-------------+-------------+-------------+-------------+-------------+-------------+-------------+-------------+-------------+-------------+-------------+-------------+-------------+-------------+--------------+--------------+--------------+--------------+--------------+--------------+--------------+--------------+--------------+--------------+--------------+--------------+--------------+--------------+--------------+--------------+--------------+--------------+--------------+--------------+--------------+--------------+--------------+--------------+--------------+--------------+--------------+--------------+--------------+--------------+--------------+--------------+--------------+--------------+--------------+--------------+--------------+--------------+--------------+--------------+--------------+--------------+---------------+---------------+---------------+---------------+---------------+---------------+---------------+---------------+----------------+----------------+\n",
      "|              0|                    0|            0|                     0|  0|11818|11818|11818|3404|3404|3404|11817|11817|11817|3459|3459|3459|3423|3423|3423|14811|14811|14811|8882|8882|8882|3411|3411|3411|3408|3408|3408|11762|   0|11762| 3387| 3387| 3387|11762|    0| 11762|     0| 11762|  11762|        0|         0|     11762|     11762|           0|         1234|         1278|         1293|         1321|         1335|         1313|         1235|         1341|         1328|         1224|         1315|         1281|         1323|         1316|         1325|         1227|         1309|         1273|          1441|          1554|          1832|          1832|          1832|          1832|          1832|          1832|          1832|          1832|          1833|          1832|          1832|          1832|          1832|          1832|          1832|          1832|          1832|          1833|             0|          1436|          1555|          1821|          1821|          1832|          1832|          1832|          1832|          1832|          1832|          1832|          1821|          1821|          1832|          1832|          1832|          1832|          1832|          1832|          1832|             0|           1833|           1839|           1833|           1839|           1832|           1832|           1832|           1832|               0|               0|\n",
      "+---------------+---------------------+-------------+----------------------+---+-----+-----+-----+----+----+----+-----+-----+-----+----+----+----+----+----+----+-----+-----+-----+----+----+----+----+----+----+----+----+----+-----+----+-----+-----+-----+-----+-----+-----+------+------+------+-------+---------+----------+----------+----------+------------+-------------+-------------+-------------+-------------+-------------+-------------+-------------+-------------+-------------+-------------+-------------+-------------+-------------+-------------+-------------+-------------+-------------+-------------+--------------+--------------+--------------+--------------+--------------+--------------+--------------+--------------+--------------+--------------+--------------+--------------+--------------+--------------+--------------+--------------+--------------+--------------+--------------+--------------+--------------+--------------+--------------+--------------+--------------+--------------+--------------+--------------+--------------+--------------+--------------+--------------+--------------+--------------+--------------+--------------+--------------+--------------+--------------+--------------+--------------+--------------+---------------+---------------+---------------+---------------+---------------+---------------+---------------+---------------+----------------+----------------+\n",
      "\n"
     ]
    },
    {
     "data": {
      "text/plain": [
       "25979"
      ]
     },
     "execution_count": 61,
     "metadata": {},
     "output_type": "execute_result"
    }
   ],
   "source": [
    "#Verificando dados ausentes\n",
    "df_match.select([sum(col(c).isNull().cast(\"int\")).alias(c) for c in df_match.columns]).show()\n",
    "df_match.count()"
   ]
  },
  {
   "cell_type": "code",
   "execution_count": 62,
   "id": "882551e0-a797-46a1-a143-070ff41db7d3",
   "metadata": {
    "tags": []
   },
   "outputs": [
    {
     "name": "stdout",
     "output_type": "stream",
     "text": [
      "+---------------+---------------------+-------------+----------------------+---+---+---+---+---+---+---+---+---+---+---+---+---+---+---+---+---+---+---+---+---+---+---+---+---+---+---+---+-----+----+-----+-----+-----+-----+-----+-----+------+------+------+-------+---------+----------+----------+----------+------------+-------------+-------------+-------------+-------------+-------------+-------------+-------------+-------------+-------------+-------------+-------------+-------------+-------------+-------------+-------------+-------------+-------------+-------------+--------------+--------------+--------------+--------------+--------------+--------------+--------------+--------------+--------------+--------------+--------------+--------------+--------------+--------------+--------------+--------------+--------------+--------------+--------------+--------------+--------------+--------------+--------------+--------------+--------------+--------------+--------------+--------------+--------------+--------------+--------------+--------------+--------------+--------------+--------------+--------------+--------------+--------------+--------------+--------------+--------------+--------------+---------------+---------------+---------------+---------------+---------------+---------------+---------------+---------------+----------------+----------------+\n",
      "|_airbyte_raw_id|_airbyte_extracted_at|_airbyte_meta|_airbyte_generation_id| id|BSA|BSD|BSH|BWA|BWD|BWH|GBA|GBD|GBH|IWA|IWD|IWH|LBA|LBD|LBH|PSA|PSD|PSH|SJA|SJD|SJH|VCA|VCD|VCH|WHA|WHD|WHH| card|date| goal|B365A|B365D|B365H|cross|stage|corner|season|shoton|shotoff|league_id|country_id|foulcommit|possession|match_api_id|away_player_1|away_player_2|away_player_3|away_player_4|away_player_5|away_player_6|away_player_7|away_player_8|away_player_9|home_player_1|home_player_2|home_player_3|home_player_4|home_player_5|home_player_6|home_player_7|home_player_8|home_player_9|away_player_10|away_player_11|away_player_X1|away_player_X2|away_player_X3|away_player_X4|away_player_X5|away_player_X6|away_player_X7|away_player_X8|away_player_X9|away_player_Y1|away_player_Y2|away_player_Y3|away_player_Y4|away_player_Y5|away_player_Y6|away_player_Y7|away_player_Y8|away_player_Y9|away_team_goal|home_player_10|home_player_11|home_player_X1|home_player_X2|home_player_X3|home_player_X4|home_player_X5|home_player_X6|home_player_X7|home_player_X8|home_player_X9|home_player_Y1|home_player_Y2|home_player_Y3|home_player_Y4|home_player_Y5|home_player_Y6|home_player_Y7|home_player_Y8|home_player_Y9|home_team_goal|away_player_X10|away_player_X11|away_player_Y10|away_player_Y11|home_player_X10|home_player_X11|home_player_Y10|home_player_Y11|away_team_api_id|home_team_api_id|\n",
      "+---------------+---------------------+-------------+----------------------+---+---+---+---+---+---+---+---+---+---+---+---+---+---+---+---+---+---+---+---+---+---+---+---+---+---+---+---+-----+----+-----+-----+-----+-----+-----+-----+------+------+------+-------+---------+----------+----------+----------+------------+-------------+-------------+-------------+-------------+-------------+-------------+-------------+-------------+-------------+-------------+-------------+-------------+-------------+-------------+-------------+-------------+-------------+-------------+--------------+--------------+--------------+--------------+--------------+--------------+--------------+--------------+--------------+--------------+--------------+--------------+--------------+--------------+--------------+--------------+--------------+--------------+--------------+--------------+--------------+--------------+--------------+--------------+--------------+--------------+--------------+--------------+--------------+--------------+--------------+--------------+--------------+--------------+--------------+--------------+--------------+--------------+--------------+--------------+--------------+--------------+---------------+---------------+---------------+---------------+---------------+---------------+---------------+---------------+----------------+----------------+\n",
      "|              0|                    0|            0|                     0|  0|  0|  0|  0|  0|  0|  0|  0|  0|  0|  0|  0|  0|  0|  0|  0|  0|  0|  0|  0|  0|  0|  0|  0|  0|  0|  0|  0|11762|   0|11762|    0|    0|    0|11762|    0| 11762|     0| 11762|  11762|        0|         0|     11762|     11762|           0|            0|            0|            0|            0|            0|            0|            0|            0|            0|            0|            0|            0|            0|            0|            0|            0|            0|            0|             0|             0|             0|             0|             0|             0|             0|             0|             0|             0|             0|             0|             0|             0|             0|             0|             0|             0|             0|             0|             0|             0|             0|             0|             0|             0|             0|             0|             0|             0|             0|             0|             0|             0|             0|             0|             0|             0|             0|             0|             0|             0|              0|              0|              0|              0|              0|              0|              0|              0|               0|               0|\n",
      "+---------------+---------------------+-------------+----------------------+---+---+---+---+---+---+---+---+---+---+---+---+---+---+---+---+---+---+---+---+---+---+---+---+---+---+---+---+-----+----+-----+-----+-----+-----+-----+-----+------+------+------+-------+---------+----------+----------+----------+------------+-------------+-------------+-------------+-------------+-------------+-------------+-------------+-------------+-------------+-------------+-------------+-------------+-------------+-------------+-------------+-------------+-------------+-------------+--------------+--------------+--------------+--------------+--------------+--------------+--------------+--------------+--------------+--------------+--------------+--------------+--------------+--------------+--------------+--------------+--------------+--------------+--------------+--------------+--------------+--------------+--------------+--------------+--------------+--------------+--------------+--------------+--------------+--------------+--------------+--------------+--------------+--------------+--------------+--------------+--------------+--------------+--------------+--------------+--------------+--------------+---------------+---------------+---------------+---------------+---------------+---------------+---------------+---------------+----------------+----------------+\n",
      "\n",
      "+--------------------+---------------------+--------------+----------------------+---+----+----+----+----+----+----+----+----+----+---+---+----+----+---+----+-----------------+-----------------+-----------------+----+---+----+----+----+----+----+----+----+----+-------------------+----+-----+-----+-----+-----+-----+------+---------+------+-------+---------+----------+----------+----------+------------+-------------+-------------+-------------+-------------+-------------+-------------+-------------+-------------+-------------+-------------+-------------+-------------+-------------+-------------+-------------+-------------+-------------+-------------+--------------+--------------+--------------+--------------+--------------+--------------+--------------+--------------+--------------+--------------+--------------+--------------+--------------+--------------+--------------+--------------+--------------+--------------+--------------+--------------+--------------+--------------+--------------+--------------+--------------+--------------+--------------+--------------+--------------+--------------+--------------+--------------+--------------+--------------+--------------+--------------+--------------+--------------+--------------+--------------+--------------+--------------+---------------+---------------+---------------+---------------+---------------+---------------+---------------+---------------+----------------+----------------+\n",
      "|     _airbyte_raw_id|_airbyte_extracted_at| _airbyte_meta|_airbyte_generation_id| id| BSA| BSD| BSH| BWA| BWD| BWH| GBA| GBD| GBH|IWA|IWD| IWH| LBA|LBD| LBH|              PSA|              PSD|              PSH| SJA|SJD| SJH| VCA| VCD| VCH| WHA| WHD| WHH|card|               date|goal|B365A|B365D|B365H|cross|stage|corner|   season|shoton|shotoff|league_id|country_id|foulcommit|possession|match_api_id|away_player_1|away_player_2|away_player_3|away_player_4|away_player_5|away_player_6|away_player_7|away_player_8|away_player_9|home_player_1|home_player_2|home_player_3|home_player_4|home_player_5|home_player_6|home_player_7|home_player_8|home_player_9|away_player_10|away_player_11|away_player_X1|away_player_X2|away_player_X3|away_player_X4|away_player_X5|away_player_X6|away_player_X7|away_player_X8|away_player_X9|away_player_Y1|away_player_Y2|away_player_Y3|away_player_Y4|away_player_Y5|away_player_Y6|away_player_Y7|away_player_Y8|away_player_Y9|away_team_goal|home_player_10|home_player_11|home_player_X1|home_player_X2|home_player_X3|home_player_X4|home_player_X5|home_player_X6|home_player_X7|home_player_X8|home_player_X9|home_player_Y1|home_player_Y2|home_player_Y3|home_player_Y4|home_player_Y5|home_player_Y6|home_player_Y7|home_player_Y8|home_player_Y9|home_team_goal|away_player_X10|away_player_X11|away_player_Y10|away_player_Y11|home_player_X10|home_player_X11|home_player_Y10|home_player_Y11|away_team_api_id|home_team_api_id|\n",
      "+--------------------+---------------------+--------------+----------------------+---+----+----+----+----+----+----+----+----+----+---+---+----+----+---+----+-----------------+-----------------+-----------------+----+---+----+----+----+----+----+----+----+----+-------------------+----+-----+-----+-----+-----+-----+------+---------+------+-------+---------+----------+----------+----------+------------+-------------+-------------+-------------+-------------+-------------+-------------+-------------+-------------+-------------+-------------+-------------+-------------+-------------+-------------+-------------+-------------+-------------+-------------+--------------+--------------+--------------+--------------+--------------+--------------+--------------+--------------+--------------+--------------+--------------+--------------+--------------+--------------+--------------+--------------+--------------+--------------+--------------+--------------+--------------+--------------+--------------+--------------+--------------+--------------+--------------+--------------+--------------+--------------+--------------+--------------+--------------+--------------+--------------+--------------+--------------+--------------+--------------+--------------+--------------+--------------+---------------+---------------+---------------+---------------+---------------+---------------+---------------+---------------+----------------+----------------+\n",
      "|5a981221-bef4-438...| 2025-05-08 12:43:...|{35867642, []}|                     1|  1| 4.2| 3.4|1.73| 4.2|3.35|1.75| 4.0|3.25|1.78|3.5|3.2|1.85|3.75|3.3| 1.8|4.972744358882524|4.132324498567335|2.816447260028652| 4.0|3.3| 1.9| 4.5| 3.4|1.65|4.33| 3.3| 1.7|null|2008-08-17 00:00:00|null|  5.0|  3.4| 1.73| null|    1|  null|2008/2009|  null|   null|        1|         1|      null|      null|      492473|        76628|       107614|        91126|        95083|       109800|       102308|        97898|       109265|       111087|        76638|       106854|        91601|        94540|       109527|       102308|        97287|       107290|       111131|        107149|        104932|             1|             2|             4|             6|             7|             3|             4|             5|             5|             1|             3|             3|             3|             3|             6|             6|             7|             8|             1|        105612|        103413|             0|             2|             4|             6|             7|             3|             4|             5|             5|             0|             2|             3|             3|             3|             6|             6|             7|             8|             1|              5|              5|              9|             10|              5|              5|              9|             10|            9993|            9987|\n",
      "|e47ddb5c-3727-47a...| 2025-05-08 12:43:...|{35867642, []}|                     1|  2| 3.6|3.25|1.91|3.95| 3.3| 1.8|3.75|3.25|1.85|3.5|3.2| 1.9| 3.5|3.2| 1.9|4.972744358882524|4.132324498567335|2.816447260028652| 3.8|3.3|1.95|3.25|3.25| 2.0| 3.6| 3.3|1.83|null|2008-08-16 00:00:00|null|  3.6|  3.2| 1.95| null|    1|  null|2008/2009|  null|   null|        1|         1|      null|      null|      492474|        76628|       107614|        91126|        95083|       109800|       102308|        97898|       109265|       111087|        76638|       106854|        91601|        94540|       109527|       102308|        97287|       107290|       111131|        107149|        104932|             1|             2|             4|             6|             7|             3|             4|             5|             5|             1|             3|             3|             3|             3|             6|             6|             7|             8|             0|        105612|        103413|             0|             2|             4|             6|             7|             3|             4|             5|             5|             0|             2|             3|             3|             3|             6|             6|             7|             8|             0|              5|              5|              9|             10|              5|              5|              9|             10|            9994|           10000|\n",
      "|e01b2039-9b3b-41b...| 2025-05-08 12:43:...|{35867642, []}|                     1|  3|2.75| 3.2| 2.3|2.55| 3.3| 2.4| 2.5| 3.2| 2.5|2.3|3.1| 2.6| 2.5|3.2| 2.5|4.972744358882524|4.132324498567335|2.816447260028652| 2.5|3.3|2.63|2.65|3.25|2.35| 2.4|3.25| 2.5|null|2008-08-16 00:00:00|null| 2.75|  3.3| 2.38| null|    1|  null|2008/2009|  null|   null|        1|         1|      null|      null|      492475|        76628|       107614|        91126|        95083|       109800|       102308|        97898|       109265|       111087|        76638|       106854|        91601|        94540|       109527|       102308|        97287|       107290|       111131|        107149|        104932|             1|             2|             4|             6|             7|             3|             4|             5|             5|             1|             3|             3|             3|             3|             6|             6|             7|             8|             3|        105612|        103413|             0|             2|             4|             6|             7|             3|             4|             5|             5|             0|             2|             3|             3|             3|             6|             6|             7|             8|             0|              5|              5|              9|             10|              5|              5|              9|             10|            8635|            9984|\n",
      "|9a33778f-e533-43e...| 2025-05-08 12:43:...|{35867642, []}|                     1|  4| 6.5|3.75|1.44| 6.8| 4.0| 1.4| 5.5|3.75| 1.5|6.0|3.9| 1.4| 6.5|3.6|1.44|4.972744358882524|4.132324498567335|2.816447260028652| 7.5|4.0|1.44| 6.5|3.75|1.45| 6.0|3.75|1.44|null|2008-08-17 00:00:00|null|  7.5| 3.75| 1.44| null|    1|  null|2008/2009|  null|   null|        1|         1|      null|      null|      492476|        76628|       107614|        91126|        95083|       109800|       102308|        97898|       109265|       111087|        76638|       106854|        91601|        94540|       109527|       102308|        97287|       107290|       111131|        107149|        104932|             1|             2|             4|             6|             7|             3|             4|             5|             5|             1|             3|             3|             3|             3|             6|             6|             7|             8|             0|        105612|        103413|             0|             2|             4|             6|             7|             3|             4|             5|             5|             0|             2|             3|             3|             3|             6|             6|             7|             8|             5|              5|              5|              9|             10|              5|              5|              9|             10|            9998|            9991|\n",
      "|7103f31f-424c-4b1...| 2025-05-08 12:43:...|{35867642, []}|                     1|  5|1.67| 3.3|4.75| 1.6| 3.5| 5.0|1.65| 3.5| 4.5|1.7|3.3| 4.0|1.72|3.4| 4.0|4.972744358882524|4.132324498567335|2.816447260028652|1.73|3.5| 4.5|1.65| 3.4| 4.5| 1.7| 3.4| 4.2|null|2008-08-16 00:00:00|null| 1.65|  3.5|  5.0| null|    1|  null|2008/2009|  null|   null|        1|         1|      null|      null|      492477|        76628|       107614|        91126|        95083|       109800|       102308|        97898|       109265|       111087|        76638|       106854|        91601|        94540|       109527|       102308|        97287|       107290|       111131|        107149|        104932|             1|             2|             4|             6|             7|             3|             4|             5|             5|             1|             3|             3|             3|             3|             6|             6|             7|             8|             3|        105612|        103413|             0|             2|             4|             6|             7|             3|             4|             5|             5|             0|             2|             3|             3|             3|             6|             6|             7|             8|             1|              5|              5|              9|             10|              5|              5|              9|             10|            9985|            7947|\n",
      "+--------------------+---------------------+--------------+----------------------+---+----+----+----+----+----+----+----+----+----+---+---+----+----+---+----+-----------------+-----------------+-----------------+----+---+----+----+----+----+----+----+----+----+-------------------+----+-----+-----+-----+-----+-----+------+---------+------+-------+---------+----------+----------+----------+------------+-------------+-------------+-------------+-------------+-------------+-------------+-------------+-------------+-------------+-------------+-------------+-------------+-------------+-------------+-------------+-------------+-------------+-------------+--------------+--------------+--------------+--------------+--------------+--------------+--------------+--------------+--------------+--------------+--------------+--------------+--------------+--------------+--------------+--------------+--------------+--------------+--------------+--------------+--------------+--------------+--------------+--------------+--------------+--------------+--------------+--------------+--------------+--------------+--------------+--------------+--------------+--------------+--------------+--------------+--------------+--------------+--------------+--------------+--------------+--------------+---------------+---------------+---------------+---------------+---------------+---------------+---------------+---------------+----------------+----------------+\n",
      "only showing top 5 rows\n",
      "\n"
     ]
    }
   ],
   "source": [
    "# Identificar colunas numéricas\n",
    "numeric_cols_match = [c for c, t in df_match.dtypes if isinstance(df_match.schema[c].dataType, NumericType)]\n",
    "   \n",
    "# Calcular a média apenas para colunas numéricas\n",
    "mean_values_match = df_match.select([mean(col(c)).alias(c) for c in numeric_cols_match]).collect()[0].asDict()\n",
    "\n",
    "# Substituir valores nulos nas colunas numéricas pela média correspondente\n",
    "df_match = df_match.fillna(mean_values_match)\n",
    "\n",
    "df_match.select([sum(col(c).isNull().cast(\"int\")).alias(c) for c in df_match.columns]).show()\n",
    "df_match.show(5)"
   ]
  },
  {
   "cell_type": "code",
   "execution_count": 63,
   "id": "73110403-bf91-4374-bc83-45c4033fd19c",
   "metadata": {
    "tags": []
   },
   "outputs": [],
   "source": [
    "#Excluir colunas \n",
    "#df_country = df_country.drop(\"_airbyte_raw_id\", \"_airbyte_extracted_at\", \"_airbyte_meta\", \"_airbyte_generation_id\")\n",
    "#print(df_country.columns)\n",
    "\n",
    "#df_league = df_league.drop(\"_airbyte_raw_id\", \"_airbyte_extracted_at\", \"_airbyte_meta\", \"_airbyte_generation_id\")\n",
    "#print(df_league.columns)\n",
    "\n",
    "#df_player = df_player.drop(\"_airbyte_raw_id\", \"_airbyte_extracted_at\", \"_airbyte_meta\", \"_airbyte_generation_id\")\n",
    "#print(df_player.columns)\n",
    "\n"
   ]
  },
  {
   "cell_type": "code",
   "execution_count": 64,
   "id": "263bd0e7-7400-497e-8106-efa80ebe97b6",
   "metadata": {
    "tags": []
   },
   "outputs": [],
   "source": [
    "#Renomeando as colunas\n",
    "#df_country = df_country.withColumnRenamed(\"name\", \"nome\")\n",
    "#df_league = df_league.withColumnRenamed(\"name\", \"nome\").withColumnRenamed(\"country_id\", \"país\")\n",
    "#df_player = df_player.withColumnRenamed(\"height\", \"altura\").withColumnRenamed(\"weight\", \"peso\").withColumnRenamed(\"birthday\", \"nascimento\").withColumnRenamed(\"player_name\", \"nome\")"
   ]
  },
  {
   "cell_type": "code",
   "execution_count": 65,
   "id": "ccce8000-ce86-49dc-9c94-52cbd6b99438",
   "metadata": {
    "tags": []
   },
   "outputs": [
    {
     "name": "stdout",
     "output_type": "stream",
     "text": [
      "Tabelas Delta gravadas na zona silver com sucesso no MinIO!\n"
     ]
    }
   ],
   "source": [
    "#Gravação no minio\n",
    "(\n",
    "    df_match.write\n",
    "    .format(\"delta\")\n",
    "    .options(**minio_delta_options)\n",
    "    .mode(\"overwrite\")\n",
    "    .save(\"s3a://bucket-silver-zone/match/\")\n",
    ")\n",
    "\n",
    "(\n",
    "    df_team.write\n",
    "    .format(\"delta\")\n",
    "    .options(**minio_delta_options)\n",
    "    .mode(\"overwrite\")\n",
    "    .save(\"s3a://bucket-silver-zone/team/\")\n",
    ")\n",
    "\n",
    "(\n",
    "    df_team_attributes.write\n",
    "    .format(\"delta\")\n",
    "    .options(**minio_delta_options)\n",
    "    .mode(\"overwrite\")\n",
    "    .save(\"s3a://bucket-silver-zone/team_attributes/\")\n",
    ")\n",
    "print(\"Tabelas Delta gravadas na zona silver com sucesso no MinIO!\")\n",
    "\n",
    "spark.stop()"
   ]
  },
  {
   "cell_type": "code",
   "execution_count": null,
   "id": "5f5a4c54-c678-4660-8842-24ad121a692a",
   "metadata": {},
   "outputs": [],
   "source": []
  }
 ],
 "metadata": {
  "kernelspec": {
   "display_name": "Python 3 (ipykernel)",
   "language": "python",
   "name": "python3"
  },
  "language_info": {
   "codemirror_mode": {
    "name": "ipython",
    "version": 3
   },
   "file_extension": ".py",
   "mimetype": "text/x-python",
   "name": "python",
   "nbconvert_exporter": "python",
   "pygments_lexer": "ipython3",
   "version": "3.10.5"
  }
 },
 "nbformat": 4,
 "nbformat_minor": 5
}
