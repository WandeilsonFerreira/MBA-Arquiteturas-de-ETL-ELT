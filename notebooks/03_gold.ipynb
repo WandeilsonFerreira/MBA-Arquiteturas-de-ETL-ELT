{
 "cells": [
  {
   "cell_type": "code",
   "execution_count": 93,
   "id": "fe41ea8d-7272-4503-9e1d-fe40cd3049e5",
   "metadata": {},
   "outputs": [],
   "source": [
    "from pyspark.sql import SparkSession\n",
    "\n",
    "def create_spark_session() -> SparkSession:\n",
    "    spark = (\n",
    "        SparkSession.builder\n",
    "        .appName(\"GoldLayer\")\n",
    "        .enableHiveSupport()\n",
    "        .config(\"spark.sql.extensions\", \"io.delta.sql.DeltaSparkSessionExtension\")\n",
    "        .config(\"spark.sql.catalog.spark_catalog\", \"org.apache.spark.sql.delta.catalog.DeltaCatalog\")\n",
    "        .config(\"spark.hadoop.fs.s3a.impl\", \"org.apache.hadoop.fs.s3a.S3AFileSystem\")\n",
    "        .config(\"spark.hadoop.fs.s3minio.impl\", \"org.apache.hadoop.fs.s3a.S3AFileSystem\")\n",
    "        .getOrCreate()\n",
    "    )\n",
    "    return spark\n",
    "\n",
    "spark = create_spark_session()\n"
   ]
  },
  {
   "cell_type": "code",
   "execution_count": 94,
   "id": "843702dd-fcad-49dc-a38c-2d82aa533ad4",
   "metadata": {},
   "outputs": [],
   "source": [
    "minio_delta_options = {\n",
    "    \"fs.s3a.access.key\": \"admin\",\n",
    "    \"fs.s3a.secret.key\": \"senhasegura\",\n",
    "    \"fs.s3a.endpoint\": \"http://minio:9000\",\n",
    "    \"fs.s3a.path.style.access\": \"true\",\n",
    "    \"fs.s3a.connection.ssl.enabled\": \"false\"\n",
    "}"
   ]
  },
  {
   "cell_type": "code",
   "execution_count": 95,
   "id": "f3ab6719-2dc8-450f-b82b-7da938c30aac",
   "metadata": {
    "tags": []
   },
   "outputs": [],
   "source": [
    "df_team = spark.read.parquet(\"s3a://bucket-silver-zone/team/\")\n",
    "df_team_attributes = spark.read.parquet(\"s3a://bucket-silver-zone/team_attributes/\")\n",
    "df_match = spark.read.parquet(\"s3a://bucket-silver-zone/match/\")\n",
    "\n",
    "#df_team.show()\n",
    "#df_team_attributes.show()\n",
    "#df_match.show()"
   ]
  },
  {
   "cell_type": "markdown",
   "id": "7583a7cc-a86d-4cd4-943f-b647d34983ac",
   "metadata": {},
   "source": [
    "## Criação de métricas por temporada:"
   ]
  },
  {
   "cell_type": "code",
   "execution_count": 96,
   "id": "a422af4f-ba1a-4faf-811a-805c01542a88",
   "metadata": {
    "tags": []
   },
   "outputs": [
    {
     "name": "stdout",
     "output_type": "stream",
     "text": [
      "+---------+----------------+------------------+-----------------------+\n",
      "|      ano|time_casa_api_id|        media_gols|media_gols_fora_de_casa|\n",
      "+---------+----------------+------------------+-----------------------+\n",
      "|2015/2016|            8573|2.3333333333333335|                    1.4|\n",
      "|2015/2016|            8586|1.8421052631578947|     0.7894736842105263|\n",
      "|2009/2010|            8569|1.5333333333333334|     0.7333333333333333|\n",
      "|2012/2013|            9850|1.3157894736842106|     1.0526315789473684|\n",
      "|2013/2014|            9826|0.9473684210526315|     1.2105263157894737|\n",
      "|2012/2013|            1601|1.1333333333333333|                    1.4|\n",
      "|2009/2010|            1957|               1.2|                    0.4|\n",
      "|2009/2010|            8031|1.2666666666666666|                    0.8|\n",
      "|2010/2011|            8559|1.7894736842105263|      1.263157894736842|\n",
      "|2013/2014|            6433| 1.588235294117647|     1.5294117647058822|\n",
      "|2008/2009|            1601|0.8666666666666667|     0.7333333333333333|\n",
      "|2009/2010|            8021|0.9333333333333333|     1.0666666666666667|\n",
      "|2012/2013|            8586|1.5263157894736843|     0.9473684210526315|\n",
      "|2011/2012|            9993|1.7333333333333334|     0.8666666666666667|\n",
      "|2010/2011|           10194| 1.631578947368421|     0.9473684210526315|\n",
      "|2009/2010|            8682|1.1578947368421053|     1.3157894736842106|\n",
      "|2010/2011|            8588|1.0526315789473684|      1.368421052631579|\n",
      "|2010/2011|            9851|1.1578947368421053|     0.6842105263157895|\n",
      "|2010/2011|            9941|               1.0|     0.6842105263157895|\n",
      "|2009/2010|            9994|               1.0|                    1.5|\n",
      "+---------+----------------+------------------+-----------------------+\n",
      "only showing top 20 rows\n",
      "\n"
     ]
    }
   ],
   "source": [
    "#Desempenho do time: Média de gols por partida \n",
    "from pyspark.sql.functions import avg, count, col\n",
    "# Calcular média de gols por time e temporada\n",
    "df_team_performance = df_match.groupBy(\"ano\", \"time_casa_api_id\").agg(avg(\"gols_time_casa\").alias(\"media_gols\"),avg(\"gols_time_visitante\").alias(\"media_gols_fora_de_casa\"))\n",
    "df_team_performance.show()"
   ]
  },
  {
   "cell_type": "code",
   "execution_count": 97,
   "id": "824bd6c4-cd28-4b50-94e6-4e31eabcd8b3",
   "metadata": {
    "tags": []
   },
   "outputs": [
    {
     "name": "stdout",
     "output_type": "stream",
     "text": [
      "+---------+----------------+--------------------+---------------------+\n",
      "|      ano|time_casa_api_id|      team_long_name|total_shots_on_target|\n",
      "+---------+----------------+--------------------+---------------------+\n",
      "|2015/2016|            8573|         KV Oostende|                    0|\n",
      "|2015/2016|            8586|   Tottenham Hotspur|                   19|\n",
      "|2009/2010|            8569|       GKS Bełchatów|                    0|\n",
      "|2012/2013|            9850|        Norwich City|                   19|\n",
      "|2013/2014|            9826|      Crystal Palace|                   19|\n",
      "|2012/2013|            1601|        Ruch Chorzów|                    0|\n",
      "|2009/2010|            1957|Jagiellonia Biały...|                    0|\n",
      "|2009/2010|            8031|       Polonia Bytom|                    0|\n",
      "|2010/2011|            8559|    Bolton Wanderers|                   19|\n",
      "|2013/2014|            6433|     Go Ahead Eagles|                    0|\n",
      "|2008/2009|            1601|        Ruch Chorzów|                    0|\n",
      "|2009/2010|            8021|      Zagłębie Lubin|                    0|\n",
      "|2012/2013|            8586|   Tottenham Hotspur|                   19|\n",
      "|2011/2012|            9993|        Beerschot AC|                    0|\n",
      "|2010/2011|           10194|          Stoke City|                   19|\n",
      "|2009/2010|            8682|          Le Mans FC|                    0|\n",
      "|2010/2011|            8588|             RC Lens|                   11|\n",
      "|2010/2011|            9851|    Stade Rennais FC|                   12|\n",
      "|2010/2011|            9941|         Toulouse FC|                   12|\n",
      "|2009/2010|            9994|    Sporting Lokeren|                    0|\n",
      "+---------+----------------+--------------------+---------------------+\n",
      "only showing top 20 rows\n",
      "\n"
     ]
    }
   ],
   "source": [
    "#Eficiência ofensiva: Número total de finalizações certas por time\n",
    "df_offensive_efficiency = df_match.groupBy(\"ano\", \"time_casa_api_id\").agg(count(\"shoton\").alias(\"total_shots_on_target\"))\n",
    "\n",
    "# Realizar o join com `df_team` para incluir o nome do time\n",
    "df_offensive_efficiency = df_offensive_efficiency.join(df_team, df_offensive_efficiency.time_casa_api_id == df_team.team_api_id, \"left\") \\\n",
    "    .select(\"ano\", \"time_casa_api_id\", \"team_long_name\", \"total_shots_on_target\")\n",
    "\n",
    "# Exibir resultados\n",
    "df_offensive_efficiency.show()\n"
   ]
  },
  {
   "cell_type": "code",
   "execution_count": 98,
   "id": "3f67fe0c-6b52-4373-b7db-0b095b70c2a9",
   "metadata": {
    "tags": []
   },
   "outputs": [
    {
     "name": "stdout",
     "output_type": "stream",
     "text": [
      "+---------+----------------+--------------------+------------------+\n",
      "|      ano|time_casa_api_id|      team_long_name|avg_goals_conceded|\n",
      "+---------+----------------+--------------------+------------------+\n",
      "|2015/2016|            8573|         KV Oostende|3.7333333333333334|\n",
      "|2015/2016|            8586|   Tottenham Hotspur|2.6315789473684212|\n",
      "|2009/2010|            8569|       GKS Bełchatów|2.2666666666666666|\n",
      "|2012/2013|            9850|        Norwich City|2.3684210526315788|\n",
      "|2013/2014|            9826|      Crystal Palace|2.1578947368421053|\n",
      "|2012/2013|            1601|        Ruch Chorzów| 2.533333333333333|\n",
      "|2009/2010|            1957|Jagiellonia Biały...|               1.6|\n",
      "|2009/2010|            8031|       Polonia Bytom| 2.066666666666667|\n",
      "|2010/2011|            8559|    Bolton Wanderers|3.0526315789473686|\n",
      "|2013/2014|            6433|     Go Ahead Eagles|3.1176470588235294|\n",
      "|2008/2009|            1601|        Ruch Chorzów|               1.6|\n",
      "|2009/2010|            8021|      Zagłębie Lubin|               2.0|\n",
      "|2012/2013|            8586|   Tottenham Hotspur| 2.473684210526316|\n",
      "|2011/2012|            9993|        Beerschot AC|               2.6|\n",
      "|2010/2011|           10194|          Stoke City|2.5789473684210527|\n",
      "|2009/2010|            8682|          Le Mans FC| 2.473684210526316|\n",
      "|2010/2011|            8588|             RC Lens|2.4210526315789473|\n",
      "|2010/2011|            9851|    Stade Rennais FC|1.8421052631578947|\n",
      "|2010/2011|            9941|         Toulouse FC|1.6842105263157894|\n",
      "|2009/2010|            9994|    Sporting Lokeren|               2.5|\n",
      "+---------+----------------+--------------------+------------------+\n",
      "only showing top 20 rows\n",
      "\n"
     ]
    }
   ],
   "source": [
    "#Eficiência defensiva: Média de gols sofridos\n",
    "\n",
    "# Calcular a média de gols sofridos por time e temporada\n",
    "df_defensive_efficiency = df_match.groupBy(\"ano\", \"time_casa_api_id\").agg(avg(df_match.gols_time_casa + df_match.gols_time_visitante).alias(\"avg_goals_conceded\"))\n",
    "\n",
    "df_defensive_efficiency = df_defensive_efficiency.join(df_team, df_defensive_efficiency.time_casa_api_id == df_team.team_api_id, \"left\") \\\n",
    "    .select(\"ano\", \"time_casa_api_id\", \"team_long_name\", \"avg_goals_conceded\")\n",
    "\n",
    "# Exibir resultados\n",
    "df_defensive_efficiency.show()\n",
    "\n",
    "\n"
   ]
  },
  {
   "cell_type": "code",
   "execution_count": 99,
   "id": "f130972b-991e-46a0-9070-6d8d1181c0a9",
   "metadata": {
    "tags": []
   },
   "outputs": [
    {
     "name": "stdout",
     "output_type": "stream",
     "text": [
      "+---------+----------------+-----------------+------------------+-----------------------+---------------------+------------------+\n",
      "|      ano|time_casa_api_id|   team_long_name|        media_gols|media_gols_fora_de_casa|total_shots_on_target|avg_goals_conceded|\n",
      "+---------+----------------+-----------------+------------------+-----------------------+---------------------+------------------+\n",
      "|2015/2016|            8573|      KV Oostende|2.3333333333333335|                    1.4|                    0|1.3333333333333333|\n",
      "|2015/2016|            8573|      KV Oostende|2.3333333333333335|                    1.4|                    0| 3.466666666666667|\n",
      "|2015/2016|            8573|      KV Oostende|2.3333333333333335|                    1.4|                    0|3.7333333333333334|\n",
      "|2015/2016|            8573|      KV Oostende|2.3333333333333335|                    1.4|                    0|1.3333333333333333|\n",
      "|2015/2016|            8573|      KV Oostende|2.3333333333333335|                    1.4|                    0| 3.466666666666667|\n",
      "|2015/2016|            8573|      KV Oostende|2.3333333333333335|                    1.4|                    0|3.7333333333333334|\n",
      "|2015/2016|            8573|      KV Oostende|2.3333333333333335|                    1.4|                    0|1.3333333333333333|\n",
      "|2015/2016|            8573|      KV Oostende|2.3333333333333335|                    1.4|                    0| 3.466666666666667|\n",
      "|2015/2016|            8573|      KV Oostende|2.3333333333333335|                    1.4|                    0|3.7333333333333334|\n",
      "|2015/2016|            8586|Tottenham Hotspur|1.8421052631578947|     0.7894736842105263|                   19|2.9473684210526314|\n",
      "|2015/2016|            8586|Tottenham Hotspur|1.8421052631578947|     0.7894736842105263|                   19| 1.631578947368421|\n",
      "|2015/2016|            8586|Tottenham Hotspur|1.8421052631578947|     0.7894736842105263|                   19|2.5789473684210527|\n",
      "|2015/2016|            8586|Tottenham Hotspur|1.8421052631578947|     0.7894736842105263|                   19|2.8947368421052633|\n",
      "|2015/2016|            8586|Tottenham Hotspur|1.8421052631578947|     0.7894736842105263|                   19| 2.736842105263158|\n",
      "|2015/2016|            8586|Tottenham Hotspur|1.8421052631578947|     0.7894736842105263|                   19| 2.789473684210526|\n",
      "|2015/2016|            8586|Tottenham Hotspur|1.8421052631578947|     0.7894736842105263|                   19| 2.473684210526316|\n",
      "|2015/2016|            8586|Tottenham Hotspur|1.8421052631578947|     0.7894736842105263|                   19|2.6315789473684212|\n",
      "|2015/2016|            8586|Tottenham Hotspur|1.8421052631578947|     0.7894736842105263|                   19|2.9473684210526314|\n",
      "|2015/2016|            8586|Tottenham Hotspur|1.8421052631578947|     0.7894736842105263|                   19| 1.631578947368421|\n",
      "|2015/2016|            8586|Tottenham Hotspur|1.8421052631578947|     0.7894736842105263|                   19|2.5789473684210527|\n",
      "+---------+----------------+-----------------+------------------+-----------------------+---------------------+------------------+\n",
      "only showing top 20 rows\n",
      "\n"
     ]
    }
   ],
   "source": [
    "# Classificação dos times com base nas finalizações certas e gols sofridos \n",
    "df_team_performance = df_match.groupBy(\"ano\", \"time_casa_api_id\").agg(avg(\"gols_time_casa\").alias(\"media_gols\"), avg(\"gols_time_visitante\").alias(\"media_gols_fora_de_casa\"))\n",
    "\n",
    "df_offensive_efficiency = df_match.groupBy(\"ano\", \"time_casa_api_id\").agg(count(\"shoton\").alias(\"total_shots_on_target\"))\n",
    "\n",
    "df_defensive_efficiency = df_match.groupBy(\"ano\", \"time_casa_api_id\").agg(avg(df_match.gols_time_casa + df_match.gols_time_visitante).alias(\"avg_goals_conceded\"))\n",
    "\n",
    "df_team_performance = df_team_performance.alias(\"tp\").join(\n",
    "    df_offensive_efficiency.alias(\"oe\"), col(\"tp.time_casa_api_id\") == col(\"oe.time_casa_api_id\"), \"left\"\n",
    ").join(\n",
    "    df_defensive_efficiency.alias(\"de\"), col(\"tp.time_casa_api_id\") == col(\"de.time_casa_api_id\"), \"left\"\n",
    ").join(\n",
    "    df_team.alias(\"t\"), col(\"tp.time_casa_api_id\") == col(\"t.team_api_id\"), \"left\"\n",
    ").select(\n",
    "    col(\"tp.ano\").alias(\"ano\"),  # Garantindo que a 'ano' venha de `df_team_performance`\n",
    "    col(\"tp.time_casa_api_id\"),\n",
    "    col(\"t.team_long_name\"),\n",
    "    col(\"tp.media_gols\"),\n",
    "    col(\"tp.media_gols_fora_de_casa\"),\n",
    "    col(\"oe.total_shots_on_target\"),\n",
    "    col(\"de.avg_goals_conceded\")\n",
    ")\n",
    "\n",
    "# Resultado final\n",
    "df_team_performance.show()"
   ]
  },
  {
   "cell_type": "code",
   "execution_count": 100,
   "id": "796d7d38-9455-4f0f-89f3-d8548205d835",
   "metadata": {
    "tags": []
   },
   "outputs": [],
   "source": [
    "#Gravação no minio\n",
    "(\n",
    "    df_team_performance.write\n",
    "    .format(\"delta\")\n",
    "    .options(**minio_delta_options)\n",
    "    .mode(\"overwrite\")\n",
    "    .save(\"s3a://bucket-gold-zone/performance/\")\n",
    ")"
   ]
  }
 ],
 "metadata": {
  "kernelspec": {
   "display_name": "Python 3 (ipykernel)",
   "language": "python",
   "name": "python3"
  },
  "language_info": {
   "codemirror_mode": {
    "name": "ipython",
    "version": 3
   },
   "file_extension": ".py",
   "mimetype": "text/x-python",
   "name": "python",
   "nbconvert_exporter": "python",
   "pygments_lexer": "ipython3",
   "version": "3.10.5"
  }
 },
 "nbformat": 4,
 "nbformat_minor": 5
}
