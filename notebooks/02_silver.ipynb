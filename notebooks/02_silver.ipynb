{
 "cells": [
  {
   "cell_type": "code",
   "execution_count": 116,
   "id": "04f3b6e4-9729-49d1-b39b-eb6c69fd214b",
   "metadata": {
    "tags": []
   },
   "outputs": [],
   "source": [
    "from pyspark.sql import SparkSession\n",
    "\n",
    "def create_spark_session() -> SparkSession:\n",
    "    spark = (\n",
    "        SparkSession.builder\n",
    "        .appName(\"SilverLayer\")\n",
    "        .enableHiveSupport()\n",
    "        .config(\"spark.sql.extensions\", \"io.delta.sql.DeltaSparkSessionExtension\")\n",
    "        .config(\"spark.sql.catalog.spark_catalog\", \"org.apache.spark.sql.delta.catalog.DeltaCatalog\")\n",
    "        .config(\"spark.hadoop.fs.s3a.impl\", \"org.apache.hadoop.fs.s3a.S3AFileSystem\")\n",
    "        .config(\"spark.hadoop.fs.s3minio.impl\", \"org.apache.hadoop.fs.s3a.S3AFileSystem\")      \n",
    "        .getOrCreate()\n",
    "    )\n",
    "    return spark\n",
    "\n",
    "spark = create_spark_session()\n",
    "\n",
    " "
   ]
  },
  {
   "cell_type": "code",
   "execution_count": 117,
   "id": "b25be249-266d-4669-b057-5a5b22c17b78",
   "metadata": {},
   "outputs": [],
   "source": [
    "minio_delta_options = {\n",
    "    \"fs.s3a.access.key\": \"admin\",\n",
    "    \"fs.s3a.secret.key\": \"senhasegura\",\n",
    "    \"fs.s3a.endpoint\": \"http://minio:9000\",\n",
    "    \"fs.s3a.path.style.access\": \"true\",\n",
    "    \"fs.s3a.connection.ssl.enabled\": \"false\"\n",
    "}"
   ]
  },
  {
   "cell_type": "code",
   "execution_count": 118,
   "id": "dac4085b-866b-4ce8-bd56-04671e601e92",
   "metadata": {
    "tags": []
   },
   "outputs": [
    {
     "name": "stdout",
     "output_type": "stream",
     "text": [
      "Team: ['_airbyte_raw_id', '_airbyte_extracted_at', '_airbyte_meta', '_airbyte_generation_id', 'id', 'team_api_id', 'team_long_name', 'team_short_name', 'team_fifa_api_id']\n",
      "\n",
      "Team_attributes: ['_airbyte_raw_id', '_airbyte_extracted_at', '_airbyte_meta', '_airbyte_generation_id', 'id', 'date', 'team_api_id', 'defencePressure', 'buildUpPlaySpeed', 'defenceTeamWidth', 'team_fifa_api_id', 'defenceAggression', 'buildUpPlayPassing', 'buildUpPlayDribbling', 'defencePressureClass', 'buildUpPlaySpeedClass', 'chanceCreationPassing', 'defenceTeamWidthClass', 'chanceCreationCrossing', 'chanceCreationShooting', 'defenceAggressionClass', 'buildUpPlayPassingClass', 'defenceDefenderLineClass', 'buildUpPlayDribblingClass', 'chanceCreationPassingClass', 'buildUpPlayPositioningClass', 'chanceCreationCrossingClass', 'chanceCreationShootingClass', 'chanceCreationPositioningClass']\n",
      "\n",
      "Match: ['_airbyte_raw_id', '_airbyte_extracted_at', '_airbyte_meta', '_airbyte_generation_id', 'id', 'BSA', 'BSD', 'BSH', 'BWA', 'BWD', 'BWH', 'GBA', 'GBD', 'GBH', 'IWA', 'IWD', 'IWH', 'LBA', 'LBD', 'LBH', 'PSA', 'PSD', 'PSH', 'SJA', 'SJD', 'SJH', 'VCA', 'VCD', 'VCH', 'WHA', 'WHD', 'WHH', 'card', 'date', 'goal', 'B365A', 'B365D', 'B365H', 'cross', 'stage', 'corner', 'season', 'shoton', 'shotoff', 'league_id', 'country_id', 'foulcommit', 'possession', 'match_api_id', 'away_player_1', 'away_player_2', 'away_player_3', 'away_player_4', 'away_player_5', 'away_player_6', 'away_player_7', 'away_player_8', 'away_player_9', 'home_player_1', 'home_player_2', 'home_player_3', 'home_player_4', 'home_player_5', 'home_player_6', 'home_player_7', 'home_player_8', 'home_player_9', 'away_player_10', 'away_player_11', 'away_player_X1', 'away_player_X2', 'away_player_X3', 'away_player_X4', 'away_player_X5', 'away_player_X6', 'away_player_X7', 'away_player_X8', 'away_player_X9', 'away_player_Y1', 'away_player_Y2', 'away_player_Y3', 'away_player_Y4', 'away_player_Y5', 'away_player_Y6', 'away_player_Y7', 'away_player_Y8', 'away_player_Y9', 'away_team_goal', 'home_player_10', 'home_player_11', 'home_player_X1', 'home_player_X2', 'home_player_X3', 'home_player_X4', 'home_player_X5', 'home_player_X6', 'home_player_X7', 'home_player_X8', 'home_player_X9', 'home_player_Y1', 'home_player_Y2', 'home_player_Y3', 'home_player_Y4', 'home_player_Y5', 'home_player_Y6', 'home_player_Y7', 'home_player_Y8', 'home_player_Y9', 'home_team_goal', 'away_player_X10', 'away_player_X11', 'away_player_Y10', 'away_player_Y11', 'home_player_X10', 'home_player_X11', 'home_player_Y10', 'home_player_Y11', 'away_team_api_id', 'home_team_api_id']\n",
      "\n"
     ]
    }
   ],
   "source": [
    "df_team = spark.read.parquet(\"s3a://bucket-bronze-zone/team/\")\n",
    "df_team_attributes = spark.read.parquet(\"s3a://bucket-bronze-zone/team_attributes/\")\n",
    "df_match = spark.read.parquet(\"s3a://bucket-bronze-zone/match/\")\n",
    "#df_team.show()\n",
    "#df_team_attributes.show()\n",
    "#df_match.show()\n",
    "\n",
    "print(f'Team: {df_team.columns}\\n')\n",
    "print(f'Team_attributes: {df_team_attributes.columns}\\n')\n",
    "print(f'Match: {df_match.columns}\\n')\n"
   ]
  },
  {
   "cell_type": "code",
   "execution_count": 119,
   "id": "b25fbaa0-9ff9-431a-9a4f-d287bf27feb2",
   "metadata": {
    "tags": []
   },
   "outputs": [
    {
     "data": {
      "text/plain": [
       "['_airbyte_raw_id',\n",
       " '_airbyte_extracted_at',\n",
       " '_airbyte_meta',\n",
       " '_airbyte_generation_id',\n",
       " 'id',\n",
       " 'team_api_id',\n",
       " 'team_long_name',\n",
       " 'time',\n",
       " 'team_fifa_api_id']"
      ]
     },
     "execution_count": 119,
     "metadata": {},
     "output_type": "execute_result"
    }
   ],
   "source": [
    "#Renomeando as colunas = Apos utilizar as colunas nas querys fazer a mudança\n",
    "df_team = df_team.withColumnRenamed(\"team_short_name\", \"time\")\n",
    "df_team_attributes = df_team_attributes.withColumnRenamed(\"date\", \"data\")\n",
    "#df_match = df_match.withColumnRenamed(\"date\", \"data\").withColumnRenamed(\"XXX\", \"xxxx\")\n",
    "df_team.columns"
   ]
  },
  {
   "cell_type": "code",
   "execution_count": 120,
   "id": "808616e1-6695-443a-8027-7bd6ce867987",
   "metadata": {
    "tags": []
   },
   "outputs": [
    {
     "name": "stdout",
     "output_type": "stream",
     "text": [
      "+---------------+---------------------+-------------+----------------------+---+-----------+--------------+----+----------------+\n",
      "|_airbyte_raw_id|_airbyte_extracted_at|_airbyte_meta|_airbyte_generation_id| id|team_api_id|team_long_name|time|team_fifa_api_id|\n",
      "+---------------+---------------------+-------------+----------------------+---+-----------+--------------+----+----------------+\n",
      "|              0|                    0|            0|                     0|  0|          0|             0|   0|              11|\n",
      "+---------------+---------------------+-------------+----------------------+---+-----------+--------------+----+----------------+\n",
      "\n"
     ]
    },
    {
     "data": {
      "text/plain": [
       "299"
      ]
     },
     "execution_count": 120,
     "metadata": {},
     "output_type": "execute_result"
    }
   ],
   "source": [
    "#Verificando dados ausentes\n",
    "from pyspark.sql.functions import col, sum, mean\n",
    "\n",
    "\n",
    "df_team.select([sum(col(c).isNull().cast(\"int\")).alias(c) for c in df_team.columns]).show()\n",
    "df_team.count()"
   ]
  },
  {
   "cell_type": "code",
   "execution_count": 121,
   "id": "28a9e606-d925-4a74-8ad8-e0ed457bac59",
   "metadata": {
    "tags": []
   },
   "outputs": [
    {
     "name": "stdout",
     "output_type": "stream",
     "text": [
      "+---------------+---------------------+-------------+----------------------+---+-----------+--------------+----+----------------+\n",
      "|_airbyte_raw_id|_airbyte_extracted_at|_airbyte_meta|_airbyte_generation_id| id|team_api_id|team_long_name|time|team_fifa_api_id|\n",
      "+---------------+---------------------+-------------+----------------------+---+-----------+--------------+----+----------------+\n",
      "|              0|                    0|            0|                     0|  0|          0|             0|   0|               0|\n",
      "+---------------+---------------------+-------------+----------------------+---+-----------+--------------+----+----------------+\n",
      "\n"
     ]
    }
   ],
   "source": [
    "from pyspark.sql.types import NumericType\n",
    "\n",
    "# Identificar colunas numéricas\n",
    "numeric_cols_team = [c for c, t in df_team.dtypes if isinstance(df_team.schema[c].dataType, NumericType)]\n",
    "\n",
    "# Calcular a média apenas para colunas numéricas\n",
    "mean_values_team = df_team.select([mean(col(c)).alias(c) for c in numeric_cols_team]).collect()[0].asDict()\n",
    "\n",
    "# Substituir valores nulos nas colunas numéricas pela média correspondente\n",
    "df_team = df_team.fillna(mean_values_team)\n",
    "\n",
    "df_team.select([sum(col(c).isNull().cast(\"int\")).alias(c) for c in df_team.columns]).show()\n",
    "#df_team.show(5)\n"
   ]
  },
  {
   "cell_type": "code",
   "execution_count": 122,
   "id": "1483c34c-4d04-446d-a236-68286fbe94a8",
   "metadata": {
    "tags": []
   },
   "outputs": [
    {
     "name": "stdout",
     "output_type": "stream",
     "text": [
      "+---------------+---------------------+-------------+----------------------+---+----+-----------+---------------+----------------+----------------+----------------+-----------------+------------------+--------------------+--------------------+---------------------+---------------------+---------------------+----------------------+----------------------+----------------------+-----------------------+------------------------+-------------------------+--------------------------+---------------------------+---------------------------+---------------------------+------------------------------+\n",
      "|_airbyte_raw_id|_airbyte_extracted_at|_airbyte_meta|_airbyte_generation_id| id|data|team_api_id|defencePressure|buildUpPlaySpeed|defenceTeamWidth|team_fifa_api_id|defenceAggression|buildUpPlayPassing|buildUpPlayDribbling|defencePressureClass|buildUpPlaySpeedClass|chanceCreationPassing|defenceTeamWidthClass|chanceCreationCrossing|chanceCreationShooting|defenceAggressionClass|buildUpPlayPassingClass|defenceDefenderLineClass|buildUpPlayDribblingClass|chanceCreationPassingClass|buildUpPlayPositioningClass|chanceCreationCrossingClass|chanceCreationShootingClass|chanceCreationPositioningClass|\n",
      "+---------------+---------------------+-------------+----------------------+---+----+-----------+---------------+----------------+----------------+----------------+-----------------+------------------+--------------------+--------------------+---------------------+---------------------+---------------------+----------------------+----------------------+----------------------+-----------------------+------------------------+-------------------------+--------------------------+---------------------------+---------------------------+---------------------------+------------------------------+\n",
      "|              0|                    0|            0|                     0|  0|   0|          0|              0|               0|               0|               0|                0|                 0|                 969|                   0|                    0|                    0|                    0|                     0|                     0|                     0|                      0|                       0|                        0|                         0|                          0|                          0|                          0|                             0|\n",
      "+---------------+---------------------+-------------+----------------------+---+----+-----------+---------------+----------------+----------------+----------------+-----------------+------------------+--------------------+--------------------+---------------------+---------------------+---------------------+----------------------+----------------------+----------------------+-----------------------+------------------------+-------------------------+--------------------------+---------------------------+---------------------------+---------------------------+------------------------------+\n",
      "\n"
     ]
    }
   ],
   "source": [
    "#Verificando dados ausentes\n",
    "df_team_attributes.select([sum(col(c).isNull().cast(\"int\")).alias(c) for c in df_team_attributes.columns]).show()\n",
    "#df_team_attributes.count()"
   ]
  },
  {
   "cell_type": "code",
   "execution_count": 123,
   "id": "076880a3-7676-45f5-a92f-189988f8729c",
   "metadata": {
    "tags": []
   },
   "outputs": [
    {
     "name": "stdout",
     "output_type": "stream",
     "text": [
      "+---------------+---------------------+-------------+----------------------+---+----+-----------+---------------+----------------+----------------+----------------+-----------------+------------------+--------------------+--------------------+---------------------+---------------------+---------------------+----------------------+----------------------+----------------------+-----------------------+------------------------+-------------------------+--------------------------+---------------------------+---------------------------+---------------------------+------------------------------+\n",
      "|_airbyte_raw_id|_airbyte_extracted_at|_airbyte_meta|_airbyte_generation_id| id|data|team_api_id|defencePressure|buildUpPlaySpeed|defenceTeamWidth|team_fifa_api_id|defenceAggression|buildUpPlayPassing|buildUpPlayDribbling|defencePressureClass|buildUpPlaySpeedClass|chanceCreationPassing|defenceTeamWidthClass|chanceCreationCrossing|chanceCreationShooting|defenceAggressionClass|buildUpPlayPassingClass|defenceDefenderLineClass|buildUpPlayDribblingClass|chanceCreationPassingClass|buildUpPlayPositioningClass|chanceCreationCrossingClass|chanceCreationShootingClass|chanceCreationPositioningClass|\n",
      "+---------------+---------------------+-------------+----------------------+---+----+-----------+---------------+----------------+----------------+----------------+-----------------+------------------+--------------------+--------------------+---------------------+---------------------+---------------------+----------------------+----------------------+----------------------+-----------------------+------------------------+-------------------------+--------------------------+---------------------------+---------------------------+---------------------------+------------------------------+\n",
      "|              0|                    0|            0|                     0|  0|   0|          0|              0|               0|               0|               0|                0|                 0|                   0|                   0|                    0|                    0|                    0|                     0|                     0|                     0|                      0|                       0|                        0|                         0|                          0|                          0|                          0|                             0|\n",
      "+---------------+---------------------+-------------+----------------------+---+----+-----------+---------------+----------------+----------------+----------------+-----------------+------------------+--------------------+--------------------+---------------------+---------------------+---------------------+----------------------+----------------------+----------------------+-----------------------+------------------------+-------------------------+--------------------------+---------------------------+---------------------------+---------------------------+------------------------------+\n",
      "\n"
     ]
    }
   ],
   "source": [
    "# Identificar colunas numéricas\n",
    "numeric_cols_team_attributes = [c for c, t in df_team_attributes.dtypes if isinstance(df_team_attributes.schema[c].dataType, NumericType)]\n",
    "   \n",
    "# Calcular a média apenas para colunas numéricas\n",
    "mean_values_team_attributes = df_team_attributes.select([mean(col(c)).alias(c) for c in numeric_cols_team_attributes]).collect()[0].asDict()\n",
    "\n",
    "# Substituir valores nulos nas colunas numéricas pela média correspondente\n",
    "df_team_attributes = df_team_attributes.fillna(mean_values_team_attributes)\n",
    "\n",
    "df_team_attributes.select([sum(col(c).isNull().cast(\"int\")).alias(c) for c in df_team_attributes.columns]).show()\n",
    "#df_team_attributes.show(5)"
   ]
  },
  {
   "cell_type": "code",
   "execution_count": 124,
   "id": "17b1d2c4-a2c2-4e44-be13-b8e4c0bf4636",
   "metadata": {
    "tags": []
   },
   "outputs": [
    {
     "name": "stdout",
     "output_type": "stream",
     "text": [
      "+---------------+---------------------+-------------+----------------------+---+-----+-----+-----+----+----+----+-----+-----+-----+----+----+----+----+----+----+-----+-----+-----+----+----+----+----+----+----+----+----+----+-----+----+-----+-----+-----+-----+-----+-----+------+------+------+-------+---------+----------+----------+----------+------------+-------------+-------------+-------------+-------------+-------------+-------------+-------------+-------------+-------------+-------------+-------------+-------------+-------------+-------------+-------------+-------------+-------------+-------------+--------------+--------------+--------------+--------------+--------------+--------------+--------------+--------------+--------------+--------------+--------------+--------------+--------------+--------------+--------------+--------------+--------------+--------------+--------------+--------------+--------------+--------------+--------------+--------------+--------------+--------------+--------------+--------------+--------------+--------------+--------------+--------------+--------------+--------------+--------------+--------------+--------------+--------------+--------------+--------------+--------------+--------------+---------------+---------------+---------------+---------------+---------------+---------------+---------------+---------------+----------------+----------------+\n",
      "|_airbyte_raw_id|_airbyte_extracted_at|_airbyte_meta|_airbyte_generation_id| id|  BSA|  BSD|  BSH| BWA| BWD| BWH|  GBA|  GBD|  GBH| IWA| IWD| IWH| LBA| LBD| LBH|  PSA|  PSD|  PSH| SJA| SJD| SJH| VCA| VCD| VCH| WHA| WHD| WHH| card|date| goal|B365A|B365D|B365H|cross|stage|corner|season|shoton|shotoff|league_id|country_id|foulcommit|possession|match_api_id|away_player_1|away_player_2|away_player_3|away_player_4|away_player_5|away_player_6|away_player_7|away_player_8|away_player_9|home_player_1|home_player_2|home_player_3|home_player_4|home_player_5|home_player_6|home_player_7|home_player_8|home_player_9|away_player_10|away_player_11|away_player_X1|away_player_X2|away_player_X3|away_player_X4|away_player_X5|away_player_X6|away_player_X7|away_player_X8|away_player_X9|away_player_Y1|away_player_Y2|away_player_Y3|away_player_Y4|away_player_Y5|away_player_Y6|away_player_Y7|away_player_Y8|away_player_Y9|away_team_goal|home_player_10|home_player_11|home_player_X1|home_player_X2|home_player_X3|home_player_X4|home_player_X5|home_player_X6|home_player_X7|home_player_X8|home_player_X9|home_player_Y1|home_player_Y2|home_player_Y3|home_player_Y4|home_player_Y5|home_player_Y6|home_player_Y7|home_player_Y8|home_player_Y9|home_team_goal|away_player_X10|away_player_X11|away_player_Y10|away_player_Y11|home_player_X10|home_player_X11|home_player_Y10|home_player_Y11|away_team_api_id|home_team_api_id|\n",
      "+---------------+---------------------+-------------+----------------------+---+-----+-----+-----+----+----+----+-----+-----+-----+----+----+----+----+----+----+-----+-----+-----+----+----+----+----+----+----+----+----+----+-----+----+-----+-----+-----+-----+-----+-----+------+------+------+-------+---------+----------+----------+----------+------------+-------------+-------------+-------------+-------------+-------------+-------------+-------------+-------------+-------------+-------------+-------------+-------------+-------------+-------------+-------------+-------------+-------------+-------------+--------------+--------------+--------------+--------------+--------------+--------------+--------------+--------------+--------------+--------------+--------------+--------------+--------------+--------------+--------------+--------------+--------------+--------------+--------------+--------------+--------------+--------------+--------------+--------------+--------------+--------------+--------------+--------------+--------------+--------------+--------------+--------------+--------------+--------------+--------------+--------------+--------------+--------------+--------------+--------------+--------------+--------------+---------------+---------------+---------------+---------------+---------------+---------------+---------------+---------------+----------------+----------------+\n",
      "|              0|                    0|            0|                     0|  0|11818|11818|11818|3404|3404|3404|11817|11817|11817|3459|3459|3459|3423|3423|3423|14811|14811|14811|8882|8882|8882|3411|3411|3411|3408|3408|3408|11762|   0|11762| 3387| 3387| 3387|11762|    0| 11762|     0| 11762|  11762|        0|         0|     11762|     11762|           0|         1234|         1278|         1293|         1321|         1335|         1313|         1235|         1341|         1328|         1224|         1315|         1281|         1323|         1316|         1325|         1227|         1309|         1273|          1441|          1554|          1832|          1832|          1832|          1832|          1832|          1832|          1832|          1832|          1833|          1832|          1832|          1832|          1832|          1832|          1832|          1832|          1832|          1833|             0|          1436|          1555|          1821|          1821|          1832|          1832|          1832|          1832|          1832|          1832|          1832|          1821|          1821|          1832|          1832|          1832|          1832|          1832|          1832|          1832|             0|           1833|           1839|           1833|           1839|           1832|           1832|           1832|           1832|               0|               0|\n",
      "+---------------+---------------------+-------------+----------------------+---+-----+-----+-----+----+----+----+-----+-----+-----+----+----+----+----+----+----+-----+-----+-----+----+----+----+----+----+----+----+----+----+-----+----+-----+-----+-----+-----+-----+-----+------+------+------+-------+---------+----------+----------+----------+------------+-------------+-------------+-------------+-------------+-------------+-------------+-------------+-------------+-------------+-------------+-------------+-------------+-------------+-------------+-------------+-------------+-------------+-------------+--------------+--------------+--------------+--------------+--------------+--------------+--------------+--------------+--------------+--------------+--------------+--------------+--------------+--------------+--------------+--------------+--------------+--------------+--------------+--------------+--------------+--------------+--------------+--------------+--------------+--------------+--------------+--------------+--------------+--------------+--------------+--------------+--------------+--------------+--------------+--------------+--------------+--------------+--------------+--------------+--------------+--------------+---------------+---------------+---------------+---------------+---------------+---------------+---------------+---------------+----------------+----------------+\n",
      "\n"
     ]
    }
   ],
   "source": [
    "#Verificando dados ausentes\n",
    "df_match.select([sum(col(c).isNull().cast(\"int\")).alias(c) for c in df_match.columns]).show()\n",
    "#df_match.count()"
   ]
  },
  {
   "cell_type": "code",
   "execution_count": 125,
   "id": "882551e0-a797-46a1-a143-070ff41db7d3",
   "metadata": {
    "tags": []
   },
   "outputs": [
    {
     "name": "stdout",
     "output_type": "stream",
     "text": [
      "+---------------+---------------------+-------------+----------------------+---+---+---+---+---+---+---+---+---+---+---+---+---+---+---+---+---+---+---+---+---+---+---+---+---+---+---+---+-----+----+-----+-----+-----+-----+-----+-----+------+------+------+-------+---------+----------+----------+----------+------------+-------------+-------------+-------------+-------------+-------------+-------------+-------------+-------------+-------------+-------------+-------------+-------------+-------------+-------------+-------------+-------------+-------------+-------------+--------------+--------------+--------------+--------------+--------------+--------------+--------------+--------------+--------------+--------------+--------------+--------------+--------------+--------------+--------------+--------------+--------------+--------------+--------------+--------------+--------------+--------------+--------------+--------------+--------------+--------------+--------------+--------------+--------------+--------------+--------------+--------------+--------------+--------------+--------------+--------------+--------------+--------------+--------------+--------------+--------------+--------------+---------------+---------------+---------------+---------------+---------------+---------------+---------------+---------------+----------------+----------------+\n",
      "|_airbyte_raw_id|_airbyte_extracted_at|_airbyte_meta|_airbyte_generation_id| id|BSA|BSD|BSH|BWA|BWD|BWH|GBA|GBD|GBH|IWA|IWD|IWH|LBA|LBD|LBH|PSA|PSD|PSH|SJA|SJD|SJH|VCA|VCD|VCH|WHA|WHD|WHH| card|date| goal|B365A|B365D|B365H|cross|stage|corner|season|shoton|shotoff|league_id|country_id|foulcommit|possession|match_api_id|away_player_1|away_player_2|away_player_3|away_player_4|away_player_5|away_player_6|away_player_7|away_player_8|away_player_9|home_player_1|home_player_2|home_player_3|home_player_4|home_player_5|home_player_6|home_player_7|home_player_8|home_player_9|away_player_10|away_player_11|away_player_X1|away_player_X2|away_player_X3|away_player_X4|away_player_X5|away_player_X6|away_player_X7|away_player_X8|away_player_X9|away_player_Y1|away_player_Y2|away_player_Y3|away_player_Y4|away_player_Y5|away_player_Y6|away_player_Y7|away_player_Y8|away_player_Y9|away_team_goal|home_player_10|home_player_11|home_player_X1|home_player_X2|home_player_X3|home_player_X4|home_player_X5|home_player_X6|home_player_X7|home_player_X8|home_player_X9|home_player_Y1|home_player_Y2|home_player_Y3|home_player_Y4|home_player_Y5|home_player_Y6|home_player_Y7|home_player_Y8|home_player_Y9|home_team_goal|away_player_X10|away_player_X11|away_player_Y10|away_player_Y11|home_player_X10|home_player_X11|home_player_Y10|home_player_Y11|away_team_api_id|home_team_api_id|\n",
      "+---------------+---------------------+-------------+----------------------+---+---+---+---+---+---+---+---+---+---+---+---+---+---+---+---+---+---+---+---+---+---+---+---+---+---+---+---+-----+----+-----+-----+-----+-----+-----+-----+------+------+------+-------+---------+----------+----------+----------+------------+-------------+-------------+-------------+-------------+-------------+-------------+-------------+-------------+-------------+-------------+-------------+-------------+-------------+-------------+-------------+-------------+-------------+-------------+--------------+--------------+--------------+--------------+--------------+--------------+--------------+--------------+--------------+--------------+--------------+--------------+--------------+--------------+--------------+--------------+--------------+--------------+--------------+--------------+--------------+--------------+--------------+--------------+--------------+--------------+--------------+--------------+--------------+--------------+--------------+--------------+--------------+--------------+--------------+--------------+--------------+--------------+--------------+--------------+--------------+--------------+---------------+---------------+---------------+---------------+---------------+---------------+---------------+---------------+----------------+----------------+\n",
      "|              0|                    0|            0|                     0|  0|  0|  0|  0|  0|  0|  0|  0|  0|  0|  0|  0|  0|  0|  0|  0|  0|  0|  0|  0|  0|  0|  0|  0|  0|  0|  0|  0|11762|   0|11762|    0|    0|    0|11762|    0| 11762|     0| 11762|  11762|        0|         0|     11762|     11762|           0|            0|            0|            0|            0|            0|            0|            0|            0|            0|            0|            0|            0|            0|            0|            0|            0|            0|            0|             0|             0|             0|             0|             0|             0|             0|             0|             0|             0|             0|             0|             0|             0|             0|             0|             0|             0|             0|             0|             0|             0|             0|             0|             0|             0|             0|             0|             0|             0|             0|             0|             0|             0|             0|             0|             0|             0|             0|             0|             0|             0|              0|              0|              0|              0|              0|              0|              0|              0|               0|               0|\n",
      "+---------------+---------------------+-------------+----------------------+---+---+---+---+---+---+---+---+---+---+---+---+---+---+---+---+---+---+---+---+---+---+---+---+---+---+---+---+-----+----+-----+-----+-----+-----+-----+-----+------+------+------+-------+---------+----------+----------+----------+------------+-------------+-------------+-------------+-------------+-------------+-------------+-------------+-------------+-------------+-------------+-------------+-------------+-------------+-------------+-------------+-------------+-------------+-------------+--------------+--------------+--------------+--------------+--------------+--------------+--------------+--------------+--------------+--------------+--------------+--------------+--------------+--------------+--------------+--------------+--------------+--------------+--------------+--------------+--------------+--------------+--------------+--------------+--------------+--------------+--------------+--------------+--------------+--------------+--------------+--------------+--------------+--------------+--------------+--------------+--------------+--------------+--------------+--------------+--------------+--------------+---------------+---------------+---------------+---------------+---------------+---------------+---------------+---------------+----------------+----------------+\n",
      "\n"
     ]
    }
   ],
   "source": [
    "# Identificar colunas numéricas\n",
    "numeric_cols_match = [c for c, t in df_match.dtypes if isinstance(df_match.schema[c].dataType, NumericType)]\n",
    "   \n",
    "# Calcular a média apenas para colunas numéricas\n",
    "mean_values_match = df_match.select([mean(col(c)).alias(c) for c in numeric_cols_match]).collect()[0].asDict()\n",
    "\n",
    "# Substituir valores nulos nas colunas numéricas pela média correspondente\n",
    "df_match = df_match.fillna(mean_values_match)\n",
    "\n",
    "df_match.select([sum(col(c).isNull().cast(\"int\")).alias(c) for c in df_match.columns]).show()\n",
    "#df_match.show(5)"
   ]
  },
  {
   "cell_type": "code",
   "execution_count": 126,
   "id": "73110403-bf91-4374-bc83-45c4033fd19c",
   "metadata": {
    "tags": []
   },
   "outputs": [],
   "source": [
    "#Renomeando colunas\n",
    "df_match = df_match.withColumnRenamed(\"season\", \"ano\") \\\n",
    "       .withColumnRenamed(\"home_team_api_id\", \"time_casa_api_id\") \\\n",
    "       .withColumnRenamed(\"home_team_goal\", \"gols_time_casa\") \\\n",
    "       .withColumnRenamed(\"avg_home_goals\", \"media_gols\") \\\n",
    "       .withColumnRenamed(\"away_team_goal\", \"gols_time_visitante\") \\\n",
    "       .withColumnRenamed(\"avg_away_goals\", \"gols_fora_de_casa\")\n",
    "\n",
    "#df_match.show()\n"
   ]
  },
  {
   "cell_type": "code",
   "execution_count": 127,
   "id": "ccce8000-ce86-49dc-9c94-52cbd6b99438",
   "metadata": {
    "tags": []
   },
   "outputs": [
    {
     "name": "stdout",
     "output_type": "stream",
     "text": [
      "Tabelas Delta gravadas na zona silver com sucesso no MinIO!\n"
     ]
    }
   ],
   "source": [
    "#Gravação no minio\n",
    "(\n",
    "    df_match.write\n",
    "    .format(\"delta\")\n",
    "    .options(**minio_delta_options)\n",
    "    .mode(\"overwrite\")\n",
    "    .save(\"s3a://bucket-silver-zone/match/\")\n",
    ")\n",
    "\n",
    "(\n",
    "    df_team.write\n",
    "    .format(\"delta\")\n",
    "    .options(**minio_delta_options)\n",
    "    .mode(\"overwrite\")\n",
    "    .save(\"s3a://bucket-silver-zone/team/\")\n",
    ")\n",
    "\n",
    "(\n",
    "    df_team_attributes.write\n",
    "    .format(\"delta\")\n",
    "    .options(**minio_delta_options)\n",
    "    .mode(\"overwrite\")\n",
    "    .save(\"s3a://bucket-silver-zone/team_attributes/\")\n",
    ")\n",
    "print(\"Tabelas Delta gravadas na zona silver com sucesso no MinIO!\")\n",
    "\n",
    "spark.stop()"
   ]
  }
 ],
 "metadata": {
  "kernelspec": {
   "display_name": "Python 3 (ipykernel)",
   "language": "python",
   "name": "python3"
  },
  "language_info": {
   "codemirror_mode": {
    "name": "ipython",
    "version": 3
   },
   "file_extension": ".py",
   "mimetype": "text/x-python",
   "name": "python",
   "nbconvert_exporter": "python",
   "pygments_lexer": "ipython3",
   "version": "3.10.5"
  }
 },
 "nbformat": 4,
 "nbformat_minor": 5
}
